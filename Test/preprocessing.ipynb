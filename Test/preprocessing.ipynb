{
 "cells": [
  {
   "cell_type": "code",
   "execution_count": null,
   "metadata": {},
   "outputs": [],
   "source": [
    "import pandas as pd\n",
    "\n",
    "# โหลดไฟล์ CSV ที่ได้จาก Web Scraping\n",
    "df = pd.read_csv(\"dataset.csv\")\n",
    "\n",
    "# ดูตัวอย่างข้อมูล\n",
    "df.head()"
   ]
  }
 ],
 "metadata": {
  "language_info": {
   "name": "python"
  }
 },
 "nbformat": 4,
 "nbformat_minor": 2
}
